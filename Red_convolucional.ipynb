{
  "nbformat": 4,
  "nbformat_minor": 0,
  "metadata": {
    "colab": {
      "name": "Red convolucional.ipynb",
      "provenance": [],
      "collapsed_sections": [],
      "authorship_tag": "ABX9TyOP0LceT+colQLSPKyOh1Yq",
      "include_colab_link": true
    },
    "kernelspec": {
      "name": "python3",
      "display_name": "Python 3"
    },
    "language_info": {
      "name": "python"
    }
  },
  "cells": [
    {
      "cell_type": "markdown",
      "metadata": {
        "id": "view-in-github",
        "colab_type": "text"
      },
      "source": [
        "<a href=\"https://colab.research.google.com/github/Maximo-Rulli/Solucionador-de-problemas/blob/main/Red_convolucional.ipynb\" target=\"_parent\"><img src=\"https://colab.research.google.com/assets/colab-badge.svg\" alt=\"Open In Colab\"/></a>"
      ]
    },
    {
      "cell_type": "code",
      "execution_count": 2,
      "metadata": {
        "id": "KLSXQ_c2mgA8"
      },
      "outputs": [],
      "source": [
        "import tensorflow as tf\n",
        "from tensorflow import *\n",
        "from tensorflow.keras import layers\n",
        "from tensorflow.keras.datasets import cifar10"
      ]
    },
    {
      "cell_type": "code",
      "source": [
        "(X_train, y_train), (X_test, y_test) = cifar10.load_data()"
      ],
      "metadata": {
        "id": "rM6kndLtqGv-",
        "colab": {
          "base_uri": "https://localhost:8080/"
        },
        "outputId": "d35b3e0c-b08e-422c-86df-327349af5931"
      },
      "execution_count": 3,
      "outputs": [
        {
          "output_type": "stream",
          "name": "stdout",
          "text": [
            "Downloading data from https://www.cs.toronto.edu/~kriz/cifar-10-python.tar.gz\n",
            "170500096/170498071 [==============================] - 4s 0us/step\n",
            "170508288/170498071 [==============================] - 4s 0us/step\n"
          ]
        }
      ]
    },
    {
      "cell_type": "code",
      "source": [
        "X_train = X_train.astype(\"float32\") /255.0\n",
        "X_test = X_test.astype(\"float32\") /255.0"
      ],
      "metadata": {
        "id": "C2QFSE7O33da"
      },
      "execution_count": 4,
      "outputs": []
    },
    {
      "cell_type": "code",
      "source": [
        "#Modelo Secuencial\n",
        "\"\"\"model = keras.Sequential(\n",
        "    [\n",
        "        keras.Input(shape=(32, 32, 3)),\n",
        "        layers.Conv2D(32, 3, padding=\"valid\", activation = \"relu\"),\n",
        "        layers.MaxPooling2D(2),\n",
        "        layers.Conv2D(64, 3, activation=\"relu\"),\n",
        "        layers.MaxPooling2D(2),\n",
        "        layers.Conv2D(256, 3, activation=\"relu\"),\n",
        "        layers.MaxPooling2D(2),\n",
        "        layers.Flatten(),\n",
        "        layers.Dense(64, activation =\"relu\"),\n",
        "        layers.Dense(10, activation =\"linear\")\n",
        "    ]\n",
        ")\n",
        "\"\"\"\n",
        "\n",
        "#Modelo Funcional\n",
        "def Mi_modelo():\n",
        "  input = keras.Input(shape=(32,32,3))\n",
        "  x = layers.Conv2D(32,3)(input)\n",
        "  x = layers.BatchNormalization()(x)\n",
        "  x = keras.activations.relu(x)\n",
        "  x = layers.MaxPooling2D()(x)\n",
        "  x = layers.Conv2D(64,3)(x)\n",
        "  x = layers.BatchNormalization()(x)\n",
        "  x = keras.activations.relu(x)\n",
        "  x = layers.MaxPooling2D()(x)\n",
        "  x = layers.Conv2D(256,3)(x)\n",
        "  x = layers.BatchNormalization()(x)\n",
        "  x = keras.activations.relu(x)\n",
        "  x = layers.MaxPooling2D()(x)\n",
        "  x = layers.Flatten()(x)\n",
        "  x = layers.Dense(64, activation=\"relu\", kernel_regularizer=tf.keras.regularizers.L1(0.005))(x)\n",
        "  output = layers.Dense(10, activation=\"linear\", kernel_regularizer=tf.keras.regularizers.L1(0.005))(x)\n",
        "  model = keras.Model(inputs=input, outputs=output)\n",
        "  return model\n",
        "\n",
        "model = Mi_modelo()\n"
      ],
      "metadata": {
        "id": "sPdeot7L4yQO"
      },
      "execution_count": 13,
      "outputs": []
    },
    {
      "cell_type": "code",
      "source": [
        "model.summary()"
      ],
      "metadata": {
        "colab": {
          "base_uri": "https://localhost:8080/"
        },
        "id": "K0v_FOwc57kv",
        "outputId": "c574385c-0a8e-417d-80af-b4f3d6c793a9"
      },
      "execution_count": 14,
      "outputs": [
        {
          "output_type": "stream",
          "name": "stdout",
          "text": [
            "Model: \"model_1\"\n",
            "_________________________________________________________________\n",
            " Layer (type)                Output Shape              Param #   \n",
            "=================================================================\n",
            " input_2 (InputLayer)        [(None, 32, 32, 3)]       0         \n",
            "                                                                 \n",
            " conv2d_3 (Conv2D)           (None, 30, 30, 32)        896       \n",
            "                                                                 \n",
            " batch_normalization_3 (Batc  (None, 30, 30, 32)       128       \n",
            " hNormalization)                                                 \n",
            "                                                                 \n",
            " tf.nn.relu_3 (TFOpLambda)   (None, 30, 30, 32)        0         \n",
            "                                                                 \n",
            " max_pooling2d_3 (MaxPooling  (None, 15, 15, 32)       0         \n",
            " 2D)                                                             \n",
            "                                                                 \n",
            " conv2d_4 (Conv2D)           (None, 13, 13, 64)        18496     \n",
            "                                                                 \n",
            " batch_normalization_4 (Batc  (None, 13, 13, 64)       256       \n",
            " hNormalization)                                                 \n",
            "                                                                 \n",
            " tf.nn.relu_4 (TFOpLambda)   (None, 13, 13, 64)        0         \n",
            "                                                                 \n",
            " max_pooling2d_4 (MaxPooling  (None, 6, 6, 64)         0         \n",
            " 2D)                                                             \n",
            "                                                                 \n",
            " conv2d_5 (Conv2D)           (None, 4, 4, 256)         147712    \n",
            "                                                                 \n",
            " batch_normalization_5 (Batc  (None, 4, 4, 256)        1024      \n",
            " hNormalization)                                                 \n",
            "                                                                 \n",
            " tf.nn.relu_5 (TFOpLambda)   (None, 4, 4, 256)         0         \n",
            "                                                                 \n",
            " max_pooling2d_5 (MaxPooling  (None, 2, 2, 256)        0         \n",
            " 2D)                                                             \n",
            "                                                                 \n",
            " flatten_1 (Flatten)         (None, 1024)              0         \n",
            "                                                                 \n",
            " dense_2 (Dense)             (None, 64)                65600     \n",
            "                                                                 \n",
            " dense_3 (Dense)             (None, 10)                650       \n",
            "                                                                 \n",
            "=================================================================\n",
            "Total params: 234,762\n",
            "Trainable params: 234,058\n",
            "Non-trainable params: 704\n",
            "_________________________________________________________________\n"
          ]
        }
      ]
    },
    {
      "cell_type": "code",
      "source": [
        "model.compile(\n",
        "    optimizer=keras.optimizers.Adam(learning_rate=0.001), loss=keras.losses.SparseCategoricalCrossentropy(from_logits=True), metrics =\"accuracy\"\n",
        ")"
      ],
      "metadata": {
        "id": "BxVSr4bp57ln"
      },
      "execution_count": 15,
      "outputs": []
    },
    {
      "cell_type": "code",
      "source": [
        "model.fit(X_train, y_train, batch_size=64, epochs=10)"
      ],
      "metadata": {
        "id": "fgSvdRER74J7",
        "colab": {
          "base_uri": "https://localhost:8080/"
        },
        "outputId": "7687329f-77f5-465e-f9f1-67ce94e47e37"
      },
      "execution_count": 16,
      "outputs": [
        {
          "output_type": "stream",
          "name": "stdout",
          "text": [
            "Epoch 1/10\n",
            "782/782 [==============================] - 103s 131ms/step - loss: 2.8617 - accuracy: 0.5145\n",
            "Epoch 2/10\n",
            "782/782 [==============================] - 102s 131ms/step - loss: 1.4424 - accuracy: 0.6398\n",
            "Epoch 3/10\n",
            "782/782 [==============================] - 103s 132ms/step - loss: 1.2705 - accuracy: 0.6920\n",
            "Epoch 4/10\n",
            "782/782 [==============================] - 102s 130ms/step - loss: 1.1600 - accuracy: 0.7279\n",
            "Epoch 5/10\n",
            "782/782 [==============================] - 103s 132ms/step - loss: 1.0848 - accuracy: 0.7526\n",
            "Epoch 6/10\n",
            "782/782 [==============================] - 104s 132ms/step - loss: 1.0279 - accuracy: 0.7679\n",
            "Epoch 7/10\n",
            "782/782 [==============================] - 103s 132ms/step - loss: 0.9742 - accuracy: 0.7860\n",
            "Epoch 8/10\n",
            "782/782 [==============================] - 103s 131ms/step - loss: 0.9285 - accuracy: 0.7999\n",
            "Epoch 9/10\n",
            "782/782 [==============================] - 104s 133ms/step - loss: 0.8881 - accuracy: 0.8150\n",
            "Epoch 10/10\n",
            "782/782 [==============================] - 105s 134ms/step - loss: 0.8550 - accuracy: 0.8269\n"
          ]
        },
        {
          "output_type": "execute_result",
          "data": {
            "text/plain": [
              "<keras.callbacks.History at 0x7fa29e807fd0>"
            ]
          },
          "metadata": {},
          "execution_count": 16
        }
      ]
    },
    {
      "cell_type": "code",
      "source": [
        "model.evaluate(X_test, y_test, batch_size=64)"
      ],
      "metadata": {
        "colab": {
          "base_uri": "https://localhost:8080/"
        },
        "id": "7FMBhGUL8kC3",
        "outputId": "600c7978-4c04-49fb-d061-af71a5cbd178"
      },
      "execution_count": 10,
      "outputs": [
        {
          "output_type": "stream",
          "name": "stdout",
          "text": [
            "157/157 [==============================] - 6s 37ms/step - loss: 1.4096 - accuracy: 0.6839\n"
          ]
        },
        {
          "output_type": "execute_result",
          "data": {
            "text/plain": [
              "[1.4095549583435059, 0.683899998664856]"
            ]
          },
          "metadata": {},
          "execution_count": 10
        }
      ]
    },
    {
      "cell_type": "code",
      "source": [
        "logit_pred = model.predict(X_test, batch_size=64)\n",
        "Fx = tf.nn.softmax(logit_pred)"
      ],
      "metadata": {
        "id": "3K603HN1DUEf"
      },
      "execution_count": 11,
      "outputs": []
    },
    {
      "cell_type": "code",
      "source": [
        "print(y_test[0])\n",
        "print(Fx[0, 3])"
      ],
      "metadata": {
        "colab": {
          "base_uri": "https://localhost:8080/"
        },
        "id": "GAc8oH9WA-Q3",
        "outputId": "36854f14-37c4-4996-f437-027199fc953b"
      },
      "execution_count": 12,
      "outputs": [
        {
          "output_type": "stream",
          "name": "stdout",
          "text": [
            "array([3], dtype=uint8)\n",
            "0.428176314\n"
          ]
        }
      ]
    }
  ]
}